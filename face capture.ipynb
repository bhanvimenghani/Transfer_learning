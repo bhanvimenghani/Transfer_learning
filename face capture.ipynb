{
 "cells": [
  {
   "cell_type": "markdown",
   "metadata": {},
   "source": [
    "# importing libraries"
   ]
  },
  {
   "cell_type": "code",
   "execution_count": 1,
   "metadata": {},
   "outputs": [],
   "source": [
    "import cv2\n",
    "import numpy as np\n",
    "from os import listdir\n",
    "from os.path import isfile, join"
   ]
  },
  {
   "cell_type": "markdown",
   "metadata": {},
   "source": [
    "# Training set"
   ]
  },
  {
   "cell_type": "markdown",
   "metadata": {},
   "source": [
    "Train images for bhanvi 100 img"
   ]
  },
  {
   "cell_type": "code",
   "execution_count": 3,
   "metadata": {},
   "outputs": [],
   "source": [
    "cap = cv2.VideoCapture(0)\n",
    "count = 0           #Count is the counter for no of photos captured\n",
    "while True :\n",
    "    status , photo = cap.read()\n",
    "    face_model = cv2.CascadeClassifier('C:/Users/Hitakshi/Desktop/ff/haarcascade_frontalcatface.xml')\n",
    "    face_cor = face_model.detectMultiScale(photo)\n",
    "    if len(face_cor) != 0:\n",
    "        count = count +1\n",
    "        x , y , h , w = face_cor[0,0] , face_cor[0,1] , face_cor[0,2] , face_cor[0,3]\n",
    "        crop_photo = photo[y:y+h , x:x+w]\n",
    "        crop_resize = cv2.resize(crop_photo,(224,224))       #Resized to (224,224) because VGG is by-default designed for this input image sizes\n",
    "        file_name_path = 'C:/Users/Hitakshi/Desktop/dataset/Train/bhan/image' + str(count) + '.jpg'\n",
    "        cv2.imwrite(file_name_path, crop_resize)             #Imwrite saves the images on the above declared path\n",
    "        cv2.putText(crop_resize , str(count), (50, 50), cv2.FONT_HERSHEY_COMPLEX, 1, (255,0,0), 2)\n",
    "        cv2.imshow('Face Cropper' , crop_resize)\n",
    "    if cv2.waitKey(1) == 13 or count == 100 :               #100 images clicked for training set\n",
    "        break\n",
    "cv2.destroyAllWindows()\n",
    "cap.release()"
   ]
  },
  {
   "cell_type": "code",
   "execution_count": 4,
   "metadata": {},
   "outputs": [
    {
     "data": {
      "text/plain": [
       "array([[325, 290,  80,  80]], dtype=int32)"
      ]
     },
     "execution_count": 4,
     "metadata": {},
     "output_type": "execute_result"
    }
   ],
   "source": [
    "\n",
    "face_cor"
   ]
  },
  {
   "cell_type": "markdown",
   "metadata": {},
   "source": [
    "Train images for mummy "
   ]
  },
  {
   "cell_type": "code",
   "execution_count": 2,
   "metadata": {},
   "outputs": [],
   "source": [
    "cap = cv2.VideoCapture(0)\n",
    "count = 0           #Count is the counter for no of photos captured\n",
    "while True :\n",
    "    status , photo = cap.read()\n",
    "    face_model = cv2.CascadeClassifier('C:/Users/Hitakshi/Desktop/ff/haarcascade_frontalcatface.xml')\n",
    "    face_cor = face_model.detectMultiScale(photo)\n",
    "    if len(face_cor) != 0:\n",
    "        count = count +1\n",
    "        x , y , h , w = face_cor[0,0] , face_cor[0,1] , face_cor[0,2] , face_cor[0,3]\n",
    "        crop_photo = photo[y:y+h , x:x+w]\n",
    "        crop_resize = cv2.resize(crop_photo,(224,224))       #Resized to (224,224) because VGG is by-default designed for this input image sizes\n",
    "        file_name_path = 'C:/Users/Hitakshi/Desktop/dataset/Train/mom/image' + str(count) + '.jpg'\n",
    "        cv2.imwrite(file_name_path, crop_resize)             #Imwrite saves the images on the above declared path\n",
    "        cv2.putText(crop_resize , str(count), (50, 50), cv2.FONT_HERSHEY_COMPLEX, 1, (255,0,0), 2)\n",
    "        cv2.imshow('Face Cropper' , crop_resize)\n",
    "    if cv2.waitKey(1) == 13 or count == 100 :               #100 images clicked for training set\n",
    "        break\n",
    "cv2.destroyAllWindows()\n",
    "cap.release()"
   ]
  },
  {
   "cell_type": "markdown",
   "metadata": {},
   "source": [
    "# Testing images"
   ]
  },
  {
   "cell_type": "markdown",
   "metadata": {},
   "source": [
    "test images for mom"
   ]
  },
  {
   "cell_type": "code",
   "execution_count": 4,
   "metadata": {},
   "outputs": [],
   "source": [
    "\n",
    "#To scan photos for testing of Tanishka\n",
    "cap = cv2.VideoCapture(0 , cv2.CAP_DSHOW)\n",
    "count = 0\n",
    "while True :\n",
    "    status , photo = cap.read()\n",
    "    face_model = cv2.CascadeClassifier('C:/Users/Hitakshi/Desktop/ff/haarcascade_frontalcatface.xml')\n",
    "    face_cor = face_model.detectMultiScale(photo)\n",
    "    if len(face_cor) != 0:\n",
    "        count = count +1\n",
    "        x , y , h , w = face_cor[0,0] , face_cor[0,1] , face_cor[0,2] , face_cor[0,3]\n",
    "        crop_photo = photo[y:y+h , x:x+w]\n",
    "        crop_resize = cv2.resize(crop_photo,(224,224))\n",
    "        file_name_path = 'C:/Users/Hitakshi/Desktop/dataset/Test/mom/image' + str(count) + '.jpg'\n",
    "        cv2.imwrite(file_name_path, crop_resize)\n",
    "        cv2.putText(crop_resize , str(count), (50, 50), cv2.FONT_HERSHEY_COMPLEX, 1, (255,0,0), 2)\n",
    "        cv2.imshow('Face Cropper' , crop_resize)\n",
    "    if cv2.waitKey(1) == 13 or count == 50 :\n",
    "        break\n",
    "cv2.destroyAllWindows()\n",
    "cap.release()"
   ]
  },
  {
   "cell_type": "markdown",
   "metadata": {},
   "source": [
    "Test images for bhanvi"
   ]
  },
  {
   "cell_type": "code",
   "execution_count": 3,
   "metadata": {},
   "outputs": [],
   "source": [
    "\n",
    "#To scan photos for testing of Tanishka\n",
    "cap = cv2.VideoCapture(0 , cv2.CAP_DSHOW)\n",
    "count = 0\n",
    "while True :\n",
    "    status , photo = cap.read()\n",
    "    face_model = cv2.CascadeClassifier('C:/Users/Hitakshi/Desktop/ff/haarcascade_frontalcatface.xml')\n",
    "    face_cor = face_model.detectMultiScale(photo)\n",
    "    if len(face_cor) != 0:\n",
    "        count = count +1\n",
    "        x , y , h , w = face_cor[0,0] , face_cor[0,1] , face_cor[0,2] , face_cor[0,3]\n",
    "        crop_photo = photo[y:y+h , x:x+w]\n",
    "        crop_resize = cv2.resize(crop_photo,(224,224))\n",
    "        file_name_path = 'C:/Users/Hitakshi/Desktop/dataset/Test/bhan/image' + str(count) + '.jpg'\n",
    "        cv2.imwrite(file_name_path, crop_resize)\n",
    "        cv2.putText(crop_resize , str(count), (50, 50), cv2.FONT_HERSHEY_COMPLEX, 1, (255,0,0), 2)\n",
    "        cv2.imshow('Face Cropper' , crop_resize)\n",
    "    if cv2.waitKey(1) == 13 or count == 50 :\n",
    "        break\n",
    "cv2.destroyAllWindows()\n",
    "cap.release()"
   ]
  },
  {
   "cell_type": "code",
   "execution_count": null,
   "metadata": {},
   "outputs": [],
   "source": []
  }
 ],
 "metadata": {
  "kernelspec": {
   "display_name": "mlops",
   "language": "python",
   "name": "mlops"
  },
  "language_info": {
   "codemirror_mode": {
    "name": "ipython",
    "version": 3
   },
   "file_extension": ".py",
   "mimetype": "text/x-python",
   "name": "python",
   "nbconvert_exporter": "python",
   "pygments_lexer": "ipython3",
   "version": "3.7.6"
  }
 },
 "nbformat": 4,
 "nbformat_minor": 4
}
